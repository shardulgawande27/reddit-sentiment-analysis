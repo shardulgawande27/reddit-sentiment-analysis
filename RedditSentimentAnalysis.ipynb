{
 "cells": [
  {
   "cell_type": "code",
   "execution_count": 39,
   "id": "adbc775e-0bb6-487c-9753-18b2009888e8",
   "metadata": {
    "tags": []
   },
   "outputs": [],
   "source": [
    "import nltk\n",
    "from nltk.sentiment import SentimentIntensityAnalyzer as SIA\n",
    "import pandas as pd\n",
    "import praw\n",
    "import pprint\n",
    "import matplotlib.pyplot as plt"
   ]
  },
  {
   "cell_type": "code",
   "execution_count": 40,
   "id": "185305f2-fda3-4536-993e-3b8318bc046a",
   "metadata": {},
   "outputs": [
    {
     "name": "stderr",
     "output_type": "stream",
     "text": [
      "[nltk_data] Downloading package vader_lexicon to C:\\Users\\Shardul\n",
      "[nltk_data]     Gawande\\AppData\\Roaming\\nltk_data...\n",
      "[nltk_data]   Package vader_lexicon is already up-to-date!\n"
     ]
    },
    {
     "data": {
      "text/plain": [
       "True"
      ]
     },
     "execution_count": 40,
     "metadata": {},
     "output_type": "execute_result"
    }
   ],
   "source": [
    "sia = SIA()\n",
    "nltk.download('vader_lexicon')"
   ]
  },
  {
   "cell_type": "markdown",
   "id": "acb31f07",
   "metadata": {},
   "source": [
    "Get Headlines From Reddit"
   ]
  },
  {
   "cell_type": "code",
   "execution_count": 41,
   "id": "bb289c9e-1c8b-46be-8e1f-3a05a7faaa3b",
   "metadata": {
    "tags": []
   },
   "outputs": [
    {
     "name": "stdout",
     "output_type": "stream",
     "text": [
      "1473\n"
     ]
    }
   ],
   "source": [
    "user_agent = \"Shardul\"\n",
    "reddit = praw.Reddit(\n",
    "    client_id = \"S01m3fFoGav5b5-cHJXTXA\",\n",
    "    client_secret = \"1AmNtLm14-30MjCPlbpegoEYHa9r2w\",\n",
    "    user_agent = user_agent\n",
    ")\n",
    "\n",
    "headlines = set()\n",
    "for submission in reddit.subreddit('politics').hot(limit=None):\n",
    "    headlines.add(submission.title)\n",
    "\n",
    "for submission in reddit.subreddit('news').hot(limit=None):\n",
    "    headlines.add(submission.title)\n",
    "\n",
    "for submission in reddit.subreddit('worldnews').hot(limit=None):\n",
    "    headlines.add(submission.title)\n",
    "    \n",
    "print(len(headlines))"
   ]
  },
  {
   "cell_type": "code",
   "execution_count": 42,
   "id": "f7bac6df-9b78-4425-8259-9e9b076df661",
   "metadata": {},
   "outputs": [
    {
     "data": {
      "text/html": [
       "<div>\n",
       "<style scoped>\n",
       "    .dataframe tbody tr th:only-of-type {\n",
       "        vertical-align: middle;\n",
       "    }\n",
       "\n",
       "    .dataframe tbody tr th {\n",
       "        vertical-align: top;\n",
       "    }\n",
       "\n",
       "    .dataframe thead th {\n",
       "        text-align: right;\n",
       "    }\n",
       "</style>\n",
       "<table border=\"1\" class=\"dataframe\">\n",
       "  <thead>\n",
       "    <tr style=\"text-align: right;\">\n",
       "      <th></th>\n",
       "      <th>0</th>\n",
       "    </tr>\n",
       "  </thead>\n",
       "  <tbody>\n",
       "    <tr>\n",
       "      <th>0</th>\n",
       "      <td>Myanmar crackdown on business escalates, 16 mo...</td>\n",
       "    </tr>\n",
       "    <tr>\n",
       "      <th>1</th>\n",
       "      <td>UN secretary general says comments on Hamas at...</td>\n",
       "    </tr>\n",
       "    <tr>\n",
       "      <th>2</th>\n",
       "      <td>Pope says it's \"urgent\" to guarantee governanc...</td>\n",
       "    </tr>\n",
       "    <tr>\n",
       "      <th>3</th>\n",
       "      <td>Off-duty pilot may have been on psychedelic mu...</td>\n",
       "    </tr>\n",
       "    <tr>\n",
       "      <th>4</th>\n",
       "      <td>Republican Mike Johnson has secured enough vot...</td>\n",
       "    </tr>\n",
       "  </tbody>\n",
       "</table>\n",
       "</div>"
      ],
      "text/plain": [
       "                                                   0\n",
       "0  Myanmar crackdown on business escalates, 16 mo...\n",
       "1  UN secretary general says comments on Hamas at...\n",
       "2  Pope says it's \"urgent\" to guarantee governanc...\n",
       "3  Off-duty pilot may have been on psychedelic mu...\n",
       "4  Republican Mike Johnson has secured enough vot..."
      ]
     },
     "execution_count": 42,
     "metadata": {},
     "output_type": "execute_result"
    }
   ],
   "source": [
    "import pandas as pd\n",
    "df = pd.DataFrame(headlines)\n",
    "df.head()"
   ]
  },
  {
   "cell_type": "code",
   "execution_count": 43,
   "id": "740608a5-1434-462b-8c7c-4d171d8cc613",
   "metadata": {},
   "outputs": [],
   "source": [
    "df.to_csv('headlines.csv', header = False, encoding = 'utf-8', index = False)"
   ]
  },
  {
   "cell_type": "markdown",
   "id": "528f692a",
   "metadata": {},
   "source": [
    "Perform Sentiment Analysis"
   ]
  },
  {
   "cell_type": "code",
   "execution_count": 44,
   "id": "ff3b039d-8b25-4b7c-be09-8bf1efeb8bb5",
   "metadata": {},
   "outputs": [
    {
     "name": "stdout",
     "output_type": "stream",
     "text": [
      "[{'neg': 0.211, 'neu': 0.789, 'pos': 0.0, 'compound': -0.539, 'headline': 'Myanmar crackdown on business escalates, 16 more executives jailed over palm oil import scheme'}, {'neg': 0.324, 'neu': 0.676, 'pos': 0.0, 'compound': -0.7717, 'headline': \"UN secretary general says comments on Hamas attack were 'misrepresented,' as Israel retaliates with visa ban\"}, {'neg': 0.0, 'neu': 0.875, 'pos': 0.125, 'compound': 0.25, 'headline': 'Pope says it\\'s \"urgent\" to guarantee governance roles for women during meeting on church future'}]\n"
     ]
    }
   ],
   "source": [
    "results = []\n",
    "\n",
    "for line in headlines:\n",
    "    polarity_score = sia.polarity_scores(line)   #Outputs dict\n",
    "    polarity_score['headline'] = line\n",
    "    results.append(polarity_score)\n",
    "\n",
    "print(results[0:3])"
   ]
  },
  {
   "cell_type": "code",
   "execution_count": 45,
   "id": "e39e5ee6",
   "metadata": {},
   "outputs": [
    {
     "data": {
      "text/html": [
       "<div>\n",
       "<style scoped>\n",
       "    .dataframe tbody tr th:only-of-type {\n",
       "        vertical-align: middle;\n",
       "    }\n",
       "\n",
       "    .dataframe tbody tr th {\n",
       "        vertical-align: top;\n",
       "    }\n",
       "\n",
       "    .dataframe thead th {\n",
       "        text-align: right;\n",
       "    }\n",
       "</style>\n",
       "<table border=\"1\" class=\"dataframe\">\n",
       "  <thead>\n",
       "    <tr style=\"text-align: right;\">\n",
       "      <th></th>\n",
       "      <th>neg</th>\n",
       "      <th>neu</th>\n",
       "      <th>pos</th>\n",
       "      <th>compound</th>\n",
       "      <th>headline</th>\n",
       "    </tr>\n",
       "  </thead>\n",
       "  <tbody>\n",
       "    <tr>\n",
       "      <th>0</th>\n",
       "      <td>0.211</td>\n",
       "      <td>0.789</td>\n",
       "      <td>0.000</td>\n",
       "      <td>-0.5390</td>\n",
       "      <td>Myanmar crackdown on business escalates, 16 mo...</td>\n",
       "    </tr>\n",
       "    <tr>\n",
       "      <th>1</th>\n",
       "      <td>0.324</td>\n",
       "      <td>0.676</td>\n",
       "      <td>0.000</td>\n",
       "      <td>-0.7717</td>\n",
       "      <td>UN secretary general says comments on Hamas at...</td>\n",
       "    </tr>\n",
       "    <tr>\n",
       "      <th>2</th>\n",
       "      <td>0.000</td>\n",
       "      <td>0.875</td>\n",
       "      <td>0.125</td>\n",
       "      <td>0.2500</td>\n",
       "      <td>Pope says it's \"urgent\" to guarantee governanc...</td>\n",
       "    </tr>\n",
       "    <tr>\n",
       "      <th>3</th>\n",
       "      <td>0.000</td>\n",
       "      <td>1.000</td>\n",
       "      <td>0.000</td>\n",
       "      <td>0.0000</td>\n",
       "      <td>Off-duty pilot may have been on psychedelic mu...</td>\n",
       "    </tr>\n",
       "    <tr>\n",
       "      <th>4</th>\n",
       "      <td>0.000</td>\n",
       "      <td>0.847</td>\n",
       "      <td>0.153</td>\n",
       "      <td>0.4019</td>\n",
       "      <td>Republican Mike Johnson has secured enough vot...</td>\n",
       "    </tr>\n",
       "  </tbody>\n",
       "</table>\n",
       "</div>"
      ],
      "text/plain": [
       "     neg    neu    pos  compound  \\\n",
       "0  0.211  0.789  0.000   -0.5390   \n",
       "1  0.324  0.676  0.000   -0.7717   \n",
       "2  0.000  0.875  0.125    0.2500   \n",
       "3  0.000  1.000  0.000    0.0000   \n",
       "4  0.000  0.847  0.153    0.4019   \n",
       "\n",
       "                                            headline  \n",
       "0  Myanmar crackdown on business escalates, 16 mo...  \n",
       "1  UN secretary general says comments on Hamas at...  \n",
       "2  Pope says it's \"urgent\" to guarantee governanc...  \n",
       "3  Off-duty pilot may have been on psychedelic mu...  \n",
       "4  Republican Mike Johnson has secured enough vot...  "
      ]
     },
     "execution_count": 45,
     "metadata": {},
     "output_type": "execute_result"
    }
   ],
   "source": [
    "df = pd.DataFrame.from_records(results)\n",
    "df.head()"
   ]
  },
  {
   "cell_type": "markdown",
   "id": "1ecf0a3e",
   "metadata": {},
   "source": [
    "Label and Create new CSV File"
   ]
  },
  {
   "cell_type": "code",
   "execution_count": 46,
   "id": "2c6441b0",
   "metadata": {},
   "outputs": [
    {
     "data": {
      "text/html": [
       "<div>\n",
       "<style scoped>\n",
       "    .dataframe tbody tr th:only-of-type {\n",
       "        vertical-align: middle;\n",
       "    }\n",
       "\n",
       "    .dataframe tbody tr th {\n",
       "        vertical-align: top;\n",
       "    }\n",
       "\n",
       "    .dataframe thead th {\n",
       "        text-align: right;\n",
       "    }\n",
       "</style>\n",
       "<table border=\"1\" class=\"dataframe\">\n",
       "  <thead>\n",
       "    <tr style=\"text-align: right;\">\n",
       "      <th></th>\n",
       "      <th>neg</th>\n",
       "      <th>neu</th>\n",
       "      <th>pos</th>\n",
       "      <th>compound</th>\n",
       "      <th>headline</th>\n",
       "      <th>label</th>\n",
       "    </tr>\n",
       "  </thead>\n",
       "  <tbody>\n",
       "    <tr>\n",
       "      <th>0</th>\n",
       "      <td>0.211</td>\n",
       "      <td>0.789</td>\n",
       "      <td>0.000</td>\n",
       "      <td>-0.5390</td>\n",
       "      <td>Myanmar crackdown on business escalates, 16 mo...</td>\n",
       "      <td>-1</td>\n",
       "    </tr>\n",
       "    <tr>\n",
       "      <th>1</th>\n",
       "      <td>0.324</td>\n",
       "      <td>0.676</td>\n",
       "      <td>0.000</td>\n",
       "      <td>-0.7717</td>\n",
       "      <td>UN secretary general says comments on Hamas at...</td>\n",
       "      <td>-1</td>\n",
       "    </tr>\n",
       "    <tr>\n",
       "      <th>2</th>\n",
       "      <td>0.000</td>\n",
       "      <td>0.875</td>\n",
       "      <td>0.125</td>\n",
       "      <td>0.2500</td>\n",
       "      <td>Pope says it's \"urgent\" to guarantee governanc...</td>\n",
       "      <td>1</td>\n",
       "    </tr>\n",
       "    <tr>\n",
       "      <th>3</th>\n",
       "      <td>0.000</td>\n",
       "      <td>1.000</td>\n",
       "      <td>0.000</td>\n",
       "      <td>0.0000</td>\n",
       "      <td>Off-duty pilot may have been on psychedelic mu...</td>\n",
       "      <td>0</td>\n",
       "    </tr>\n",
       "    <tr>\n",
       "      <th>4</th>\n",
       "      <td>0.000</td>\n",
       "      <td>0.847</td>\n",
       "      <td>0.153</td>\n",
       "      <td>0.4019</td>\n",
       "      <td>Republican Mike Johnson has secured enough vot...</td>\n",
       "      <td>1</td>\n",
       "    </tr>\n",
       "  </tbody>\n",
       "</table>\n",
       "</div>"
      ],
      "text/plain": [
       "     neg    neu    pos  compound  \\\n",
       "0  0.211  0.789  0.000   -0.5390   \n",
       "1  0.324  0.676  0.000   -0.7717   \n",
       "2  0.000  0.875  0.125    0.2500   \n",
       "3  0.000  1.000  0.000    0.0000   \n",
       "4  0.000  0.847  0.153    0.4019   \n",
       "\n",
       "                                            headline  label  \n",
       "0  Myanmar crackdown on business escalates, 16 mo...     -1  \n",
       "1  UN secretary general says comments on Hamas at...     -1  \n",
       "2  Pope says it's \"urgent\" to guarantee governanc...      1  \n",
       "3  Off-duty pilot may have been on psychedelic mu...      0  \n",
       "4  Republican Mike Johnson has secured enough vot...      1  "
      ]
     },
     "execution_count": 46,
     "metadata": {},
     "output_type": "execute_result"
    }
   ],
   "source": [
    "df['label'] = 0\n",
    "df.loc[df['compound'] > 0.2, 'label'] = 1\n",
    "df.loc[df['compound'] < 0.2, 'label'] = -1\n",
    "df.loc[df['compound'] == 0, 'label'] = 0\n",
    "df.head()"
   ]
  },
  {
   "cell_type": "code",
   "execution_count": 47,
   "id": "8e6957d0",
   "metadata": {},
   "outputs": [],
   "source": [
    "df2 = df[['label', 'headline']]\n",
    "df2.head()\n",
    "df2.to_csv('Labeled_Headlines.csv', header = False, encoding = 'utf-8', index = False)"
   ]
  },
  {
   "cell_type": "markdown",
   "id": "735f7757",
   "metadata": {},
   "source": [
    "Practical Examples"
   ]
  },
  {
   "cell_type": "code",
   "execution_count": 48,
   "id": "2cd4e0f1",
   "metadata": {},
   "outputs": [
    {
     "data": {
      "text/plain": [
       "-1    54.514596\n",
       " 0    29.871012\n",
       " 1    15.614392\n",
       "Name: label, dtype: float64"
      ]
     },
     "execution_count": 48,
     "metadata": {},
     "output_type": "execute_result"
    }
   ],
   "source": [
    "# Check how many headlines are positive, negative and neutral\n",
    "df2['label'].value_counts(-1)*100"
   ]
  },
  {
   "cell_type": "code",
   "execution_count": 49,
   "id": "583b4bbf",
   "metadata": {},
   "outputs": [
    {
     "name": "stdout",
     "output_type": "stream",
     "text": [
      "Good Headlines \n",
      "\n",
      "[   'Pope says it\\'s \"urgent\" to guarantee governance roles for women during '\n",
      "    'meeting on church future',\n",
      "    'Republican Mike Johnson has secured enough votes to become House speaker '\n",
      "    'as ballot draws to a close',\n",
      "    'In Michigan, Muslim and Arab American Voters Reconsider Support for Biden',\n",
      "    \"Louisiana's 'In God We Trust' law tests limits of religion in public \"\n",
      "    'schools',\n",
      "    'MAGA wants to abolish plea deals to save Donald Trump']\n",
      "\n",
      "Bad Headlines \n",
      "\n",
      "[   'Myanmar crackdown on business escalates, 16 more executives jailed over '\n",
      "    'palm oil import scheme',\n",
      "    \"UN secretary general says comments on Hamas attack were 'misrepresented,' \"\n",
      "    'as Israel retaliates with visa ban',\n",
      "    'Georgia’s lieutenant governor wants to pay teachers $10,000 a year to '\n",
      "    'carry guns at school',\n",
      "    'Gazans Release Names of 6,747 People They Say Were Killed in Israeli '\n",
      "    'Strikes',\n",
      "    'Judge denies motion to block Ivanka Trump testimony in New York civil '\n",
      "    'fraud trial | CNN Politics']\n"
     ]
    }
   ],
   "source": [
    "# Print the bad and good headlines\n",
    "\n",
    "pp = pprint.PrettyPrinter(indent=4)\n",
    "print('Good Headlines \\n')\n",
    "pp.pprint(list(df2.query('label == 1')['headline'])[:5])\n",
    "\n",
    "print('\\nBad Headlines \\n')\n",
    "pp.pprint(list(df2.query('label == -1')['headline'])[:5])"
   ]
  },
  {
   "cell_type": "code",
   "execution_count": 50,
   "id": "45b855ac",
   "metadata": {},
   "outputs": [
    {
     "name": "stdout",
     "output_type": "stream",
     "text": [
      "[803, 440, 230]\n"
     ]
    },
    {
     "name": "stderr",
     "output_type": "stream",
     "text": [
      "C:\\Users\\Shardul Gawande\\AppData\\Local\\Temp\\ipykernel_12420\\1036277671.py:16: MatplotlibDeprecationWarning: Auto-removal of overlapping axes is deprecated since 3.6 and will be removed two minor releases later; explicitly call ax.remove() as needed.\n",
      "  plt.subplot(131)\n"
     ]
    },
    {
     "data": {
      "image/png": "[encoded data removed]",
      "text/plain": [
       "<Figure size 5000x800 with 1 Axes>"
      ]
     },
     "metadata": {},
     "output_type": "display_data"
    }
   ],
   "source": [
    "# Create a Bar Chart\n",
    "\n",
    "fig, ax = plt.subplots(figsize = (50, 8))\n",
    "categories = ['Negative', 'Neutral', 'Positive']\n",
    "values = [0]*3\n",
    "for label in df2['label']:\n",
    "    if label == -1:\n",
    "        values[0] += 1\n",
    "    if label == 0:\n",
    "        values[1] += 1\n",
    "    if label == 1:\n",
    "        values[2] += 1\n",
    "\n",
    "print(values)\n",
    "plt.title('Headline Labels')\n",
    "plt.subplot(131)\n",
    "plt.bar(categories, values)\n",
    "\n",
    "plt.show()"
   ]
  },
  {
   "cell_type": "code",
   "execution_count": null,
   "id": "f6608e4e",
   "metadata": {},
   "outputs": [],
   "source": []
  }
 ],
 "metadata": {
  "kernelspec": {
   "display_name": "Python 3 (ipykernel)",
   "language": "python",
   "name": "python3"
  },
  "language_info": {
   "codemirror_mode": {
    "name": "ipython",
    "version": 3
   },
   "file_extension": ".py",
   "mimetype": "text/x-python",
   "name": "python",
   "nbconvert_exporter": "python",
   "pygments_lexer": "ipython3",
   "version": "3.11.2"
  },
  "vscode": {
   "interpreter": {
    "hash": "b113e3f28085a06b38858b5f4545ecf2c134e881cb8dbd49b66220a930f74606"
   }
  }
 },
 "nbformat": 4,
 "nbformat_minor": 5
}
